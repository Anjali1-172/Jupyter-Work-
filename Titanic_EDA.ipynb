{
 "cells": [
  {
   "cell_type": "markdown",
   "id": "8064dbcb",
   "metadata": {},
   "source": [
    "# Titanic EDA Notebook"
   ]
  },
  {
   "cell_type": "code",
   "execution_count": null,
   "id": "4d33eeca",
   "metadata": {},
   "outputs": [],
   "source": [
    "import pandas as pd\n",
    "import matplotlib.pyplot as plt\n",
    "import seaborn as sns"
   ]
  },
  {
   "cell_type": "code",
   "execution_count": null,
   "id": "73a15e56",
   "metadata": {},
   "outputs": [],
   "source": [
    "# Load Titanic dataset\n",
    "# You can change the path if needed, or use seaborn's built-in Titanic dataset\n",
    "titanic = sns.load_dataset('titanic')"
   ]
  },
  {
   "cell_type": "code",
   "execution_count": null,
   "id": "b08e615c",
   "metadata": {},
   "outputs": [],
   "source": [
    "titanic.head()"
   ]
  },
  {
   "cell_type": "code",
   "execution_count": null,
   "id": "e150399f",
   "metadata": {},
   "outputs": [],
   "source": [
    "# Basic Information\n",
    "titanic.info()"
   ]
  },
  {
   "cell_type": "code",
   "execution_count": null,
   "id": "2285ece6",
   "metadata": {},
   "outputs": [],
   "source": [
    "# Statistical Summary\n",
    "titanic.describe()"
   ]
  },
  {
   "cell_type": "code",
   "execution_count": null,
   "id": "fed14745",
   "metadata": {},
   "outputs": [],
   "source": [
    "# Value Counts for Categorical Features\n",
    "print(\"\\nSurvived value counts:\\n\", titanic['survived'].value_counts())\n",
    "print(\"\\nSex value counts:\\n\", titanic['sex'].value_counts())\n",
    "print(\"\\nPclass value counts:\\n\", titanic['pclass'].value_counts())"
   ]
  },
  {
   "cell_type": "code",
   "execution_count": null,
   "id": "8ecac643",
   "metadata": {},
   "outputs": [],
   "source": [
    "# Checking missing values\n",
    "titanic.isnull().sum()"
   ]
  },
  {
   "cell_type": "markdown",
   "id": "ee8b6486",
   "metadata": {},
   "source": [
    "# Visual Explorations"
   ]
  },
  {
   "cell_type": "code",
   "execution_count": null,
   "id": "7772ea3a",
   "metadata": {},
   "outputs": [],
   "source": [
    "# Pairplot\n",
    "sns.pairplot(titanic.dropna(), hue='survived')\n",
    "plt.suptitle('Pairplot of Titanic Features', y=1.02)\n",
    "plt.show()"
   ]
  },
  {
   "cell_type": "code",
   "execution_count": null,
   "id": "d69aaee5",
   "metadata": {},
   "outputs": [],
   "source": [
    "# Heatmap of correlations\n",
    "plt.figure(figsize=(12,8))\n",
    "sns.heatmap(titanic.corr(), annot=True, cmap='coolwarm', linewidths=0.5)\n",
    "plt.title('Feature Correlation Heatmap')\n",
    "plt.show()"
   ]
  },
  {
   "cell_type": "markdown",
   "id": "8eed43a5",
   "metadata": {},
   "source": [
    "# Additional visualizations to identify trends"
   ]
  },
  {
   "cell_type": "code",
   "execution_count": null,
   "id": "772f2be1",
   "metadata": {},
   "outputs": [],
   "source": [
    "# Survival rate by Sex\n",
    "sns.barplot(x='sex', y='survived', data=titanic)\n",
    "plt.title('Survival Rate by Sex')\n",
    "plt.show()"
   ]
  },
  {
   "cell_type": "code",
   "execution_count": null,
   "id": "77417bf1",
   "metadata": {},
   "outputs": [],
   "source": [
    "# Survival rate by Class\n",
    "sns.barplot(x='pclass', y='survived', data=titanic)\n",
    "plt.title('Survival Rate by Passenger Class')\n",
    "plt.show()"
   ]
  },
  {
   "cell_type": "code",
   "execution_count": null,
   "id": "c094afd8",
   "metadata": {},
   "outputs": [],
   "source": [
    "# Age distribution by survival\n",
    "sns.histplot(data=titanic, x='age', hue='survived', kde=True, multiple=\"stack\")\n",
    "plt.title('Age Distribution by Survival')\n",
    "plt.show()"
   ]
  },
  {
   "cell_type": "markdown",
   "id": "20c31f9a",
   "metadata": {},
   "source": [
    "# Insights/Relationships:\n",
    "1. Females had a significantly higher survival rate than males.\n",
    "2. First-class passengers survived at a much higher rate compared to third-class passengers.\n",
    "3. Younger passengers (children) seemed to have higher survival rates.\n",
    "4. Strong correlations exist between \"fare\", \"pclass\", and \"survived\".\n",
    "5. Missing values exist in \"age\", \"embarked\", \"deck\", and \"embark_town\"."
   ]
  }
 ],
 "metadata": {},
 "nbformat": 4,
 "nbformat_minor": 5
}
